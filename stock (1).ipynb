{
  "nbformat": 4,
  "nbformat_minor": 0,
  "metadata": {
    "colab": {
      "provenance": [],
      "gpuType": "T4"
    },
    "kernelspec": {
      "name": "python3",
      "display_name": "Python 3"
    },
    "language_info": {
      "name": "python"
    },
    "accelerator": "GPU"
  },
  "cells": [
    {
      "cell_type": "code",
      "execution_count": 2,
      "metadata": {
        "id": "VgGvOtdvk8_0"
      },
      "outputs": [],
      "source": [
        "import numpy as np\n",
        "import matplotlib.pyplot as plt\n",
        "import pandas as pd\n",
        "from sklearn.preprocessing import MinMaxScaler\n",
        "from keras import layers\n",
        "from keras.models import Sequential"
      ]
    },
    {
      "cell_type": "code",
      "source": [
        "from google.colab import drive\n",
        "drive.mount('/content/drive')"
      ],
      "metadata": {
        "colab": {
          "base_uri": "https://localhost:8080/"
        },
        "id": "CDcLcolUqE8U",
        "outputId": "01c4c7a5-db60-401f-b3fb-3303297902f8"
      },
      "execution_count": 4,
      "outputs": [
        {
          "output_type": "stream",
          "name": "stdout",
          "text": [
            "Mounted at /content/drive\n"
          ]
        }
      ]
    },
    {
      "cell_type": "code",
      "source": [
        "dataset_train = pd.read_csv('/content/drive/MyDrive/trainset.csv')"
      ],
      "metadata": {
        "id": "RVEamh9DlOT1"
      },
      "execution_count": 5,
      "outputs": []
    },
    {
      "cell_type": "code",
      "source": [
        "dataset_train.columns\n"
      ],
      "metadata": {
        "colab": {
          "base_uri": "https://localhost:8080/"
        },
        "id": "ViHWiYisnX0u",
        "outputId": "0725301d-d58b-4850-843a-2f9eeca9e400"
      },
      "execution_count": 6,
      "outputs": [
        {
          "output_type": "execute_result",
          "data": {
            "text/plain": [
              "Index(['Date', 'Open', 'High', 'Low', 'Close', 'Adj Close', 'Volume'], dtype='object')"
            ]
          },
          "metadata": {},
          "execution_count": 6
        }
      ]
    },
    {
      "cell_type": "code",
      "source": [
        "dataset_train.head()\n"
      ],
      "metadata": {
        "colab": {
          "base_uri": "https://localhost:8080/",
          "height": 206
        },
        "id": "__XhOxcDncBX",
        "outputId": "d9a80386-a956-427b-ab42-28acc651f9a2"
      },
      "execution_count": 7,
      "outputs": [
        {
          "output_type": "execute_result",
          "data": {
            "text/plain": [
              "         Date        Open        High         Low       Close   Adj Close  \\\n",
              "0  02-01-2013  357.385559  361.151062  355.959839  359.288177  359.288177   \n",
              "1  03-01-2013  360.122742  363.600128  358.031342  359.496826  359.496826   \n",
              "2  04-01-2013  362.313507  368.339294  361.488861  366.600616  366.600616   \n",
              "3  07-01-2013  365.348755  367.301056  362.929504  365.001007  365.001007   \n",
              "4  08-01-2013  365.393463  365.771027  359.874359  364.280701  364.280701   \n",
              "\n",
              "    Volume  \n",
              "0  5115500  \n",
              "1  4666500  \n",
              "2  5562800  \n",
              "3  3332900  \n",
              "4  3373900  "
            ],
            "text/html": [
              "\n",
              "  <div id=\"df-d2a54e71-895a-4a02-bef3-414d70731a45\" class=\"colab-df-container\">\n",
              "    <div>\n",
              "<style scoped>\n",
              "    .dataframe tbody tr th:only-of-type {\n",
              "        vertical-align: middle;\n",
              "    }\n",
              "\n",
              "    .dataframe tbody tr th {\n",
              "        vertical-align: top;\n",
              "    }\n",
              "\n",
              "    .dataframe thead th {\n",
              "        text-align: right;\n",
              "    }\n",
              "</style>\n",
              "<table border=\"1\" class=\"dataframe\">\n",
              "  <thead>\n",
              "    <tr style=\"text-align: right;\">\n",
              "      <th></th>\n",
              "      <th>Date</th>\n",
              "      <th>Open</th>\n",
              "      <th>High</th>\n",
              "      <th>Low</th>\n",
              "      <th>Close</th>\n",
              "      <th>Adj Close</th>\n",
              "      <th>Volume</th>\n",
              "    </tr>\n",
              "  </thead>\n",
              "  <tbody>\n",
              "    <tr>\n",
              "      <th>0</th>\n",
              "      <td>02-01-2013</td>\n",
              "      <td>357.385559</td>\n",
              "      <td>361.151062</td>\n",
              "      <td>355.959839</td>\n",
              "      <td>359.288177</td>\n",
              "      <td>359.288177</td>\n",
              "      <td>5115500</td>\n",
              "    </tr>\n",
              "    <tr>\n",
              "      <th>1</th>\n",
              "      <td>03-01-2013</td>\n",
              "      <td>360.122742</td>\n",
              "      <td>363.600128</td>\n",
              "      <td>358.031342</td>\n",
              "      <td>359.496826</td>\n",
              "      <td>359.496826</td>\n",
              "      <td>4666500</td>\n",
              "    </tr>\n",
              "    <tr>\n",
              "      <th>2</th>\n",
              "      <td>04-01-2013</td>\n",
              "      <td>362.313507</td>\n",
              "      <td>368.339294</td>\n",
              "      <td>361.488861</td>\n",
              "      <td>366.600616</td>\n",
              "      <td>366.600616</td>\n",
              "      <td>5562800</td>\n",
              "    </tr>\n",
              "    <tr>\n",
              "      <th>3</th>\n",
              "      <td>07-01-2013</td>\n",
              "      <td>365.348755</td>\n",
              "      <td>367.301056</td>\n",
              "      <td>362.929504</td>\n",
              "      <td>365.001007</td>\n",
              "      <td>365.001007</td>\n",
              "      <td>3332900</td>\n",
              "    </tr>\n",
              "    <tr>\n",
              "      <th>4</th>\n",
              "      <td>08-01-2013</td>\n",
              "      <td>365.393463</td>\n",
              "      <td>365.771027</td>\n",
              "      <td>359.874359</td>\n",
              "      <td>364.280701</td>\n",
              "      <td>364.280701</td>\n",
              "      <td>3373900</td>\n",
              "    </tr>\n",
              "  </tbody>\n",
              "</table>\n",
              "</div>\n",
              "    <div class=\"colab-df-buttons\">\n",
              "\n",
              "  <div class=\"colab-df-container\">\n",
              "    <button class=\"colab-df-convert\" onclick=\"convertToInteractive('df-d2a54e71-895a-4a02-bef3-414d70731a45')\"\n",
              "            title=\"Convert this dataframe to an interactive table.\"\n",
              "            style=\"display:none;\">\n",
              "\n",
              "  <svg xmlns=\"http://www.w3.org/2000/svg\" height=\"24px\" viewBox=\"0 -960 960 960\">\n",
              "    <path d=\"M120-120v-720h720v720H120Zm60-500h600v-160H180v160Zm220 220h160v-160H400v160Zm0 220h160v-160H400v160ZM180-400h160v-160H180v160Zm440 0h160v-160H620v160ZM180-180h160v-160H180v160Zm440 0h160v-160H620v160Z\"/>\n",
              "  </svg>\n",
              "    </button>\n",
              "\n",
              "  <style>\n",
              "    .colab-df-container {\n",
              "      display:flex;\n",
              "      gap: 12px;\n",
              "    }\n",
              "\n",
              "    .colab-df-convert {\n",
              "      background-color: #E8F0FE;\n",
              "      border: none;\n",
              "      border-radius: 50%;\n",
              "      cursor: pointer;\n",
              "      display: none;\n",
              "      fill: #1967D2;\n",
              "      height: 32px;\n",
              "      padding: 0 0 0 0;\n",
              "      width: 32px;\n",
              "    }\n",
              "\n",
              "    .colab-df-convert:hover {\n",
              "      background-color: #E2EBFA;\n",
              "      box-shadow: 0px 1px 2px rgba(60, 64, 67, 0.3), 0px 1px 3px 1px rgba(60, 64, 67, 0.15);\n",
              "      fill: #174EA6;\n",
              "    }\n",
              "\n",
              "    .colab-df-buttons div {\n",
              "      margin-bottom: 4px;\n",
              "    }\n",
              "\n",
              "    [theme=dark] .colab-df-convert {\n",
              "      background-color: #3B4455;\n",
              "      fill: #D2E3FC;\n",
              "    }\n",
              "\n",
              "    [theme=dark] .colab-df-convert:hover {\n",
              "      background-color: #434B5C;\n",
              "      box-shadow: 0px 1px 3px 1px rgba(0, 0, 0, 0.15);\n",
              "      filter: drop-shadow(0px 1px 2px rgba(0, 0, 0, 0.3));\n",
              "      fill: #FFFFFF;\n",
              "    }\n",
              "  </style>\n",
              "\n",
              "    <script>\n",
              "      const buttonEl =\n",
              "        document.querySelector('#df-d2a54e71-895a-4a02-bef3-414d70731a45 button.colab-df-convert');\n",
              "      buttonEl.style.display =\n",
              "        google.colab.kernel.accessAllowed ? 'block' : 'none';\n",
              "\n",
              "      async function convertToInteractive(key) {\n",
              "        const element = document.querySelector('#df-d2a54e71-895a-4a02-bef3-414d70731a45');\n",
              "        const dataTable =\n",
              "          await google.colab.kernel.invokeFunction('convertToInteractive',\n",
              "                                                    [key], {});\n",
              "        if (!dataTable) return;\n",
              "\n",
              "        const docLinkHtml = 'Like what you see? Visit the ' +\n",
              "          '<a target=\"_blank\" href=https://colab.research.google.com/notebooks/data_table.ipynb>data table notebook</a>'\n",
              "          + ' to learn more about interactive tables.';\n",
              "        element.innerHTML = '';\n",
              "        dataTable['output_type'] = 'display_data';\n",
              "        await google.colab.output.renderOutput(dataTable, element);\n",
              "        const docLink = document.createElement('div');\n",
              "        docLink.innerHTML = docLinkHtml;\n",
              "        element.appendChild(docLink);\n",
              "      }\n",
              "    </script>\n",
              "  </div>\n",
              "\n",
              "\n",
              "<div id=\"df-db06b506-0858-4e5e-b2ca-4c5c9c5b6f3b\">\n",
              "  <button class=\"colab-df-quickchart\" onclick=\"quickchart('df-db06b506-0858-4e5e-b2ca-4c5c9c5b6f3b')\"\n",
              "            title=\"Suggest charts.\"\n",
              "            style=\"display:none;\">\n",
              "\n",
              "<svg xmlns=\"http://www.w3.org/2000/svg\" height=\"24px\"viewBox=\"0 0 24 24\"\n",
              "     width=\"24px\">\n",
              "    <g>\n",
              "        <path d=\"M19 3H5c-1.1 0-2 .9-2 2v14c0 1.1.9 2 2 2h14c1.1 0 2-.9 2-2V5c0-1.1-.9-2-2-2zM9 17H7v-7h2v7zm4 0h-2V7h2v10zm4 0h-2v-4h2v4z\"/>\n",
              "    </g>\n",
              "</svg>\n",
              "  </button>\n",
              "\n",
              "<style>\n",
              "  .colab-df-quickchart {\n",
              "      --bg-color: #E8F0FE;\n",
              "      --fill-color: #1967D2;\n",
              "      --hover-bg-color: #E2EBFA;\n",
              "      --hover-fill-color: #174EA6;\n",
              "      --disabled-fill-color: #AAA;\n",
              "      --disabled-bg-color: #DDD;\n",
              "  }\n",
              "\n",
              "  [theme=dark] .colab-df-quickchart {\n",
              "      --bg-color: #3B4455;\n",
              "      --fill-color: #D2E3FC;\n",
              "      --hover-bg-color: #434B5C;\n",
              "      --hover-fill-color: #FFFFFF;\n",
              "      --disabled-bg-color: #3B4455;\n",
              "      --disabled-fill-color: #666;\n",
              "  }\n",
              "\n",
              "  .colab-df-quickchart {\n",
              "    background-color: var(--bg-color);\n",
              "    border: none;\n",
              "    border-radius: 50%;\n",
              "    cursor: pointer;\n",
              "    display: none;\n",
              "    fill: var(--fill-color);\n",
              "    height: 32px;\n",
              "    padding: 0;\n",
              "    width: 32px;\n",
              "  }\n",
              "\n",
              "  .colab-df-quickchart:hover {\n",
              "    background-color: var(--hover-bg-color);\n",
              "    box-shadow: 0 1px 2px rgba(60, 64, 67, 0.3), 0 1px 3px 1px rgba(60, 64, 67, 0.15);\n",
              "    fill: var(--button-hover-fill-color);\n",
              "  }\n",
              "\n",
              "  .colab-df-quickchart-complete:disabled,\n",
              "  .colab-df-quickchart-complete:disabled:hover {\n",
              "    background-color: var(--disabled-bg-color);\n",
              "    fill: var(--disabled-fill-color);\n",
              "    box-shadow: none;\n",
              "  }\n",
              "\n",
              "  .colab-df-spinner {\n",
              "    border: 2px solid var(--fill-color);\n",
              "    border-color: transparent;\n",
              "    border-bottom-color: var(--fill-color);\n",
              "    animation:\n",
              "      spin 1s steps(1) infinite;\n",
              "  }\n",
              "\n",
              "  @keyframes spin {\n",
              "    0% {\n",
              "      border-color: transparent;\n",
              "      border-bottom-color: var(--fill-color);\n",
              "      border-left-color: var(--fill-color);\n",
              "    }\n",
              "    20% {\n",
              "      border-color: transparent;\n",
              "      border-left-color: var(--fill-color);\n",
              "      border-top-color: var(--fill-color);\n",
              "    }\n",
              "    30% {\n",
              "      border-color: transparent;\n",
              "      border-left-color: var(--fill-color);\n",
              "      border-top-color: var(--fill-color);\n",
              "      border-right-color: var(--fill-color);\n",
              "    }\n",
              "    40% {\n",
              "      border-color: transparent;\n",
              "      border-right-color: var(--fill-color);\n",
              "      border-top-color: var(--fill-color);\n",
              "    }\n",
              "    60% {\n",
              "      border-color: transparent;\n",
              "      border-right-color: var(--fill-color);\n",
              "    }\n",
              "    80% {\n",
              "      border-color: transparent;\n",
              "      border-right-color: var(--fill-color);\n",
              "      border-bottom-color: var(--fill-color);\n",
              "    }\n",
              "    90% {\n",
              "      border-color: transparent;\n",
              "      border-bottom-color: var(--fill-color);\n",
              "    }\n",
              "  }\n",
              "</style>\n",
              "\n",
              "  <script>\n",
              "    async function quickchart(key) {\n",
              "      const quickchartButtonEl =\n",
              "        document.querySelector('#' + key + ' button');\n",
              "      quickchartButtonEl.disabled = true;  // To prevent multiple clicks.\n",
              "      quickchartButtonEl.classList.add('colab-df-spinner');\n",
              "      try {\n",
              "        const charts = await google.colab.kernel.invokeFunction(\n",
              "            'suggestCharts', [key], {});\n",
              "      } catch (error) {\n",
              "        console.error('Error during call to suggestCharts:', error);\n",
              "      }\n",
              "      quickchartButtonEl.classList.remove('colab-df-spinner');\n",
              "      quickchartButtonEl.classList.add('colab-df-quickchart-complete');\n",
              "    }\n",
              "    (() => {\n",
              "      let quickchartButtonEl =\n",
              "        document.querySelector('#df-db06b506-0858-4e5e-b2ca-4c5c9c5b6f3b button');\n",
              "      quickchartButtonEl.style.display =\n",
              "        google.colab.kernel.accessAllowed ? 'block' : 'none';\n",
              "    })();\n",
              "  </script>\n",
              "</div>\n",
              "    </div>\n",
              "  </div>\n"
            ]
          },
          "metadata": {},
          "execution_count": 7
        }
      ]
    },
    {
      "cell_type": "code",
      "source": [
        "train_set = dataset_train.iloc[:,1:2].values\n"
      ],
      "metadata": {
        "id": "6o2AS3d3neum"
      },
      "execution_count": 8,
      "outputs": []
    },
    {
      "cell_type": "code",
      "source": [
        "type(train_set)\n"
      ],
      "metadata": {
        "colab": {
          "base_uri": "https://localhost:8080/"
        },
        "id": "0zk2TXoXnnxT",
        "outputId": "c2c7e59d-6414-41ce-9aeb-de787fc34942"
      },
      "execution_count": 9,
      "outputs": [
        {
          "output_type": "execute_result",
          "data": {
            "text/plain": [
              "numpy.ndarray"
            ]
          },
          "metadata": {},
          "execution_count": 9
        }
      ]
    },
    {
      "cell_type": "code",
      "source": [
        "train_set.shape\n"
      ],
      "metadata": {
        "colab": {
          "base_uri": "https://localhost:8080/"
        },
        "id": "4GjaB7rvnp__",
        "outputId": "44f08426-22ae-432e-ff61-f9f1b1772878"
      },
      "execution_count": 10,
      "outputs": [
        {
          "output_type": "execute_result",
          "data": {
            "text/plain": [
              "(1259, 1)"
            ]
          },
          "metadata": {},
          "execution_count": 10
        }
      ]
    },
    {
      "cell_type": "code",
      "source": [
        "\n",
        "sc = MinMaxScaler(feature_range=(0,1))\n",
        "training_set_scaled = sc.fit_transform(train_set)"
      ],
      "metadata": {
        "id": "GHX8VTqWntR1"
      },
      "execution_count": 11,
      "outputs": []
    },
    {
      "cell_type": "code",
      "source": [
        "training_set_scaled.shape\n"
      ],
      "metadata": {
        "colab": {
          "base_uri": "https://localhost:8080/"
        },
        "id": "9EQrzS1NnwWr",
        "outputId": "da9c5aaf-2c31-48c1-b263-64e3273372c0"
      },
      "execution_count": 12,
      "outputs": [
        {
          "output_type": "execute_result",
          "data": {
            "text/plain": [
              "(1259, 1)"
            ]
          },
          "metadata": {},
          "execution_count": 12
        }
      ]
    },
    {
      "cell_type": "code",
      "source": [
        "X_train_array = []\n",
        "y_train_array = []\n",
        "for i in range(60, 1259):\n",
        "  X_train_array.append(training_set_scaled[i-60:i,0])\n",
        "  y_train_array.append(training_set_scaled[i,0])\n",
        "X_train, y_train = np.array(X_train_array), np.array(y_train_array)\n",
        "X_train1 = X_train.reshape((X_train.shape[0], X_train.shape[1],1))"
      ],
      "metadata": {
        "id": "-gnBPUaDnyys"
      },
      "execution_count": 13,
      "outputs": []
    },
    {
      "cell_type": "code",
      "source": [
        "X_train.shape\n"
      ],
      "metadata": {
        "colab": {
          "base_uri": "https://localhost:8080/"
        },
        "id": "Cd7uhYHon5lW",
        "outputId": "1d0b223e-631b-49cb-c5a9-6528d0ea41c2"
      },
      "execution_count": 14,
      "outputs": [
        {
          "output_type": "execute_result",
          "data": {
            "text/plain": [
              "(1199, 60)"
            ]
          },
          "metadata": {},
          "execution_count": 14
        }
      ]
    },
    {
      "cell_type": "code",
      "source": [
        "length = 60\n",
        "n_features = 1\n"
      ],
      "metadata": {
        "id": "AfHzAz1Tn6_-"
      },
      "execution_count": 15,
      "outputs": []
    },
    {
      "cell_type": "code",
      "source": [
        "model = Sequential()\n",
        "model.add(layers.SimpleRNN(50,input_shape=(60,1)))\n",
        "model.add(layers.Dense(1))\n",
        "model.compile(optimizer='adam', loss='mse')"
      ],
      "metadata": {
        "id": "nsmxnjHCn-Rm"
      },
      "execution_count": 16,
      "outputs": []
    },
    {
      "cell_type": "code",
      "source": [
        "model.summary()\n"
      ],
      "metadata": {
        "colab": {
          "base_uri": "https://localhost:8080/"
        },
        "id": "Inc1UTlzocft",
        "outputId": "995abbfb-2241-499b-96e0-2377ecd78e29"
      },
      "execution_count": 17,
      "outputs": [
        {
          "output_type": "stream",
          "name": "stdout",
          "text": [
            "Model: \"sequential\"\n",
            "_________________________________________________________________\n",
            " Layer (type)                Output Shape              Param #   \n",
            "=================================================================\n",
            " simple_rnn (SimpleRNN)      (None, 50)                2600      \n",
            "                                                                 \n",
            " dense (Dense)               (None, 1)                 51        \n",
            "                                                                 \n",
            "=================================================================\n",
            "Total params: 2651 (10.36 KB)\n",
            "Trainable params: 2651 (10.36 KB)\n",
            "Non-trainable params: 0 (0.00 Byte)\n",
            "_________________________________________________________________\n"
          ]
        }
      ]
    },
    {
      "cell_type": "code",
      "source": [
        "model.fit(X_train1,y_train,epochs=100, batch_size=32)"
      ],
      "metadata": {
        "colab": {
          "base_uri": "https://localhost:8080/"
        },
        "id": "emGeyyFnoeYt",
        "outputId": "76f195cb-f94b-463f-f2fc-2cdb206dbee4"
      },
      "execution_count": 18,
      "outputs": [
        {
          "output_type": "stream",
          "name": "stdout",
          "text": [
            "Epoch 1/100\n",
            "38/38 [==============================] - 8s 58ms/step - loss: 0.0081\n",
            "Epoch 2/100\n",
            "38/38 [==============================] - 1s 37ms/step - loss: 7.2270e-04\n",
            "Epoch 3/100\n",
            "38/38 [==============================] - 1s 38ms/step - loss: 5.6831e-04\n",
            "Epoch 4/100\n",
            "38/38 [==============================] - 1s 37ms/step - loss: 4.2346e-04\n",
            "Epoch 5/100\n",
            "38/38 [==============================] - 1s 37ms/step - loss: 3.8132e-04\n",
            "Epoch 6/100\n",
            "38/38 [==============================] - 1s 35ms/step - loss: 3.4572e-04\n",
            "Epoch 7/100\n",
            "38/38 [==============================] - 1s 36ms/step - loss: 3.1050e-04\n",
            "Epoch 8/100\n",
            "38/38 [==============================] - 2s 40ms/step - loss: 2.8810e-04\n",
            "Epoch 9/100\n",
            "38/38 [==============================] - 3s 69ms/step - loss: 2.9103e-04\n",
            "Epoch 10/100\n",
            "38/38 [==============================] - 3s 66ms/step - loss: 2.9459e-04\n",
            "Epoch 11/100\n",
            "38/38 [==============================] - 2s 50ms/step - loss: 2.5383e-04\n",
            "Epoch 12/100\n",
            "38/38 [==============================] - 1s 35ms/step - loss: 2.9171e-04\n",
            "Epoch 13/100\n",
            "38/38 [==============================] - 1s 36ms/step - loss: 2.4341e-04\n",
            "Epoch 14/100\n",
            "38/38 [==============================] - 1s 37ms/step - loss: 2.2597e-04\n",
            "Epoch 15/100\n",
            "38/38 [==============================] - 1s 36ms/step - loss: 2.5334e-04\n",
            "Epoch 16/100\n",
            "38/38 [==============================] - 1s 37ms/step - loss: 2.4023e-04\n",
            "Epoch 17/100\n",
            "38/38 [==============================] - 2s 65ms/step - loss: 2.4099e-04\n",
            "Epoch 18/100\n",
            "38/38 [==============================] - 2s 55ms/step - loss: 2.2864e-04\n",
            "Epoch 19/100\n",
            "38/38 [==============================] - 1s 37ms/step - loss: 2.2133e-04\n",
            "Epoch 20/100\n",
            "38/38 [==============================] - 1s 35ms/step - loss: 2.1458e-04\n",
            "Epoch 21/100\n",
            "38/38 [==============================] - 1s 35ms/step - loss: 2.0926e-04\n",
            "Epoch 22/100\n",
            "38/38 [==============================] - 1s 34ms/step - loss: 2.2375e-04\n",
            "Epoch 23/100\n",
            "38/38 [==============================] - 1s 37ms/step - loss: 2.4832e-04\n",
            "Epoch 24/100\n",
            "38/38 [==============================] - 1s 36ms/step - loss: 2.0404e-04\n",
            "Epoch 25/100\n",
            "38/38 [==============================] - 1s 37ms/step - loss: 2.1455e-04\n",
            "Epoch 26/100\n",
            "38/38 [==============================] - 3s 71ms/step - loss: 2.0317e-04\n",
            "Epoch 27/100\n",
            "38/38 [==============================] - 3s 76ms/step - loss: 2.2327e-04\n",
            "Epoch 28/100\n",
            "38/38 [==============================] - 3s 69ms/step - loss: 1.9814e-04\n",
            "Epoch 29/100\n",
            "38/38 [==============================] - 1s 36ms/step - loss: 2.0564e-04\n",
            "Epoch 30/100\n",
            "38/38 [==============================] - 1s 36ms/step - loss: 2.0448e-04\n",
            "Epoch 31/100\n",
            "38/38 [==============================] - 1s 38ms/step - loss: 2.2432e-04\n",
            "Epoch 32/100\n",
            "38/38 [==============================] - 1s 35ms/step - loss: 2.0640e-04\n",
            "Epoch 33/100\n",
            "38/38 [==============================] - 1s 35ms/step - loss: 2.2394e-04\n",
            "Epoch 34/100\n",
            "38/38 [==============================] - 1s 34ms/step - loss: 2.0570e-04\n",
            "Epoch 35/100\n",
            "38/38 [==============================] - 2s 49ms/step - loss: 2.1187e-04\n",
            "Epoch 36/100\n",
            "38/38 [==============================] - 3s 67ms/step - loss: 2.0552e-04\n",
            "Epoch 37/100\n",
            "38/38 [==============================] - 2s 44ms/step - loss: 2.0040e-04\n",
            "Epoch 38/100\n",
            "38/38 [==============================] - 1s 37ms/step - loss: 1.8970e-04\n",
            "Epoch 39/100\n",
            "38/38 [==============================] - 1s 38ms/step - loss: 2.0471e-04\n",
            "Epoch 40/100\n",
            "38/38 [==============================] - 1s 38ms/step - loss: 1.8350e-04\n",
            "Epoch 41/100\n",
            "38/38 [==============================] - 1s 36ms/step - loss: 1.9435e-04\n",
            "Epoch 42/100\n",
            "38/38 [==============================] - 1s 35ms/step - loss: 1.8201e-04\n",
            "Epoch 43/100\n",
            "38/38 [==============================] - 1s 35ms/step - loss: 2.5362e-04\n",
            "Epoch 44/100\n",
            "38/38 [==============================] - 2s 52ms/step - loss: 1.8019e-04\n",
            "Epoch 45/100\n",
            "38/38 [==============================] - 2s 66ms/step - loss: 1.8139e-04\n",
            "Epoch 46/100\n",
            "38/38 [==============================] - 1s 37ms/step - loss: 1.8860e-04\n",
            "Epoch 47/100\n",
            "38/38 [==============================] - 1s 36ms/step - loss: 1.8400e-04\n",
            "Epoch 48/100\n",
            "38/38 [==============================] - 1s 36ms/step - loss: 1.9749e-04\n",
            "Epoch 49/100\n",
            "38/38 [==============================] - 1s 36ms/step - loss: 2.0230e-04\n",
            "Epoch 50/100\n",
            "38/38 [==============================] - 1s 37ms/step - loss: 1.9177e-04\n",
            "Epoch 51/100\n",
            "38/38 [==============================] - 1s 36ms/step - loss: 2.0124e-04\n",
            "Epoch 52/100\n",
            "38/38 [==============================] - 1s 36ms/step - loss: 1.9951e-04\n",
            "Epoch 53/100\n",
            "38/38 [==============================] - 2s 54ms/step - loss: 2.0968e-04\n",
            "Epoch 54/100\n",
            "38/38 [==============================] - 3s 66ms/step - loss: 2.4674e-04\n",
            "Epoch 55/100\n",
            "38/38 [==============================] - 1s 35ms/step - loss: 1.7454e-04\n",
            "Epoch 56/100\n",
            "38/38 [==============================] - 1s 36ms/step - loss: 1.7360e-04\n",
            "Epoch 57/100\n",
            "38/38 [==============================] - 1s 35ms/step - loss: 1.8311e-04\n",
            "Epoch 58/100\n",
            "38/38 [==============================] - 1s 34ms/step - loss: 1.7331e-04\n",
            "Epoch 59/100\n",
            "38/38 [==============================] - 2s 59ms/step - loss: 1.8755e-04\n",
            "Epoch 60/100\n",
            "38/38 [==============================] - 4s 107ms/step - loss: 2.0221e-04\n",
            "Epoch 61/100\n",
            "38/38 [==============================] - 3s 91ms/step - loss: 1.7182e-04\n",
            "Epoch 62/100\n",
            "38/38 [==============================] - 1s 36ms/step - loss: 1.8382e-04\n",
            "Epoch 63/100\n",
            "38/38 [==============================] - 1s 36ms/step - loss: 1.8873e-04\n",
            "Epoch 64/100\n",
            "38/38 [==============================] - 1s 35ms/step - loss: 1.7391e-04\n",
            "Epoch 65/100\n",
            "38/38 [==============================] - 1s 34ms/step - loss: 2.3426e-04\n",
            "Epoch 66/100\n",
            "38/38 [==============================] - 1s 35ms/step - loss: 1.7445e-04\n",
            "Epoch 67/100\n",
            "38/38 [==============================] - 1s 35ms/step - loss: 2.1489e-04\n",
            "Epoch 68/100\n",
            "38/38 [==============================] - 1s 37ms/step - loss: 1.6875e-04\n",
            "Epoch 69/100\n",
            "38/38 [==============================] - 2s 63ms/step - loss: 1.6889e-04\n",
            "Epoch 70/100\n",
            "38/38 [==============================] - 2s 56ms/step - loss: 1.8595e-04\n",
            "Epoch 71/100\n",
            "38/38 [==============================] - 1s 35ms/step - loss: 1.9754e-04\n",
            "Epoch 72/100\n",
            "38/38 [==============================] - 1s 36ms/step - loss: 1.7505e-04\n",
            "Epoch 73/100\n",
            "38/38 [==============================] - 1s 34ms/step - loss: 1.8440e-04\n",
            "Epoch 74/100\n",
            "38/38 [==============================] - 1s 35ms/step - loss: 1.8785e-04\n",
            "Epoch 75/100\n",
            "38/38 [==============================] - 1s 38ms/step - loss: 1.8409e-04\n",
            "Epoch 76/100\n",
            "38/38 [==============================] - 1s 35ms/step - loss: 1.6787e-04\n",
            "Epoch 77/100\n",
            "38/38 [==============================] - 1s 36ms/step - loss: 1.8363e-04\n",
            "Epoch 78/100\n",
            "38/38 [==============================] - 2s 66ms/step - loss: 1.7358e-04\n",
            "Epoch 79/100\n",
            "38/38 [==============================] - 2s 56ms/step - loss: 1.8846e-04\n",
            "Epoch 80/100\n",
            "38/38 [==============================] - 1s 34ms/step - loss: 1.7392e-04\n",
            "Epoch 81/100\n",
            "38/38 [==============================] - 1s 39ms/step - loss: 1.7593e-04\n",
            "Epoch 82/100\n",
            "38/38 [==============================] - 1s 37ms/step - loss: 1.7429e-04\n",
            "Epoch 83/100\n",
            "38/38 [==============================] - 1s 36ms/step - loss: 1.6588e-04\n",
            "Epoch 84/100\n",
            "38/38 [==============================] - 1s 35ms/step - loss: 1.8232e-04\n",
            "Epoch 85/100\n",
            "38/38 [==============================] - 1s 36ms/step - loss: 1.6947e-04\n",
            "Epoch 86/100\n",
            "38/38 [==============================] - 1s 34ms/step - loss: 1.6516e-04\n",
            "Epoch 87/100\n",
            "38/38 [==============================] - 2s 65ms/step - loss: 1.6540e-04\n",
            "Epoch 88/100\n",
            "38/38 [==============================] - 2s 57ms/step - loss: 1.7820e-04\n",
            "Epoch 89/100\n",
            "38/38 [==============================] - 2s 53ms/step - loss: 1.6599e-04\n",
            "Epoch 90/100\n",
            "38/38 [==============================] - 3s 69ms/step - loss: 1.7660e-04\n",
            "Epoch 91/100\n",
            "38/38 [==============================] - 1s 38ms/step - loss: 1.9024e-04\n",
            "Epoch 92/100\n",
            "38/38 [==============================] - 1s 35ms/step - loss: 2.0034e-04\n",
            "Epoch 93/100\n",
            "38/38 [==============================] - 1s 37ms/step - loss: 2.1057e-04\n",
            "Epoch 94/100\n",
            "38/38 [==============================] - 2s 48ms/step - loss: 1.8959e-04\n",
            "Epoch 95/100\n",
            "38/38 [==============================] - 3s 73ms/step - loss: 1.8669e-04\n",
            "Epoch 96/100\n",
            "38/38 [==============================] - 2s 43ms/step - loss: 1.7111e-04\n",
            "Epoch 97/100\n",
            "38/38 [==============================] - 1s 39ms/step - loss: 1.6195e-04\n",
            "Epoch 98/100\n",
            "38/38 [==============================] - 1s 38ms/step - loss: 1.7198e-04\n",
            "Epoch 99/100\n",
            "38/38 [==============================] - 2s 41ms/step - loss: 1.6892e-04\n",
            "Epoch 100/100\n",
            "38/38 [==============================] - 1s 37ms/step - loss: 1.7464e-04\n"
          ]
        },
        {
          "output_type": "execute_result",
          "data": {
            "text/plain": [
              "<keras.src.callbacks.History at 0x7ba9dd721bd0>"
            ]
          },
          "metadata": {},
          "execution_count": 18
        }
      ]
    },
    {
      "cell_type": "code",
      "source": [
        "dataset_test = pd.read_csv('/content/testset.csv')\n"
      ],
      "metadata": {
        "id": "5Mq1ZfojrgsP"
      },
      "execution_count": 22,
      "outputs": []
    },
    {
      "cell_type": "code",
      "source": [
        "test_set = dataset_test.iloc[:,1:2].values"
      ],
      "metadata": {
        "id": "wJ5QpceFsIV9"
      },
      "execution_count": 23,
      "outputs": []
    },
    {
      "cell_type": "code",
      "source": [
        "test_set.shape"
      ],
      "metadata": {
        "colab": {
          "base_uri": "https://localhost:8080/"
        },
        "id": "4Spn_b4isIZq",
        "outputId": "6159e22b-b7dd-4c81-9d00-7552c60704e6"
      },
      "execution_count": 24,
      "outputs": [
        {
          "output_type": "execute_result",
          "data": {
            "text/plain": [
              "(125, 1)"
            ]
          },
          "metadata": {},
          "execution_count": 24
        }
      ]
    },
    {
      "cell_type": "code",
      "source": [
        "dataset_total = pd.concat((dataset_train['Open'],dataset_test['Open']),axis=0)\n"
      ],
      "metadata": {
        "id": "yZCyykiksU8O"
      },
      "execution_count": 25,
      "outputs": []
    },
    {
      "cell_type": "code",
      "source": [
        "inputs = dataset_total.values\n",
        "inputs = inputs.reshape(-1,1)\n",
        "inputs_scaled=sc.transform(inputs)\n",
        "X_test = []\n",
        "y_test = []\n",
        "for i in range(60,1384):\n",
        "  X_test.append(inputs_scaled[i-60:i,0])\n",
        "  y_test.append(inputs_scaled[i,0])\n",
        "X_test = np.array(X_test)\n",
        "X_test = np.reshape(X_test,(X_test.shape[0], X_test.shape[1],1))"
      ],
      "metadata": {
        "id": "0wFhBBKzsVRL"
      },
      "execution_count": 26,
      "outputs": []
    },
    {
      "cell_type": "code",
      "source": [
        "X_test.shape"
      ],
      "metadata": {
        "colab": {
          "base_uri": "https://localhost:8080/"
        },
        "id": "e-aJIn4wsefw",
        "outputId": "f52b3caf-07a6-4e2a-ca4c-46a0322ccfc0"
      },
      "execution_count": 27,
      "outputs": [
        {
          "output_type": "execute_result",
          "data": {
            "text/plain": [
              "(1324, 60, 1)"
            ]
          },
          "metadata": {},
          "execution_count": 27
        }
      ]
    },
    {
      "cell_type": "code",
      "source": [
        "predicted_stock_price_scaled = model.predict(X_test)\n",
        "predicted_stock_price = sc.inverse_transform(predicted_stock_price_scaled)"
      ],
      "metadata": {
        "colab": {
          "base_uri": "https://localhost:8080/"
        },
        "id": "C2jq4fuBsi63",
        "outputId": "40e495c7-c2ca-4c29-9a40-1a273dc442cd"
      },
      "execution_count": 28,
      "outputs": [
        {
          "output_type": "stream",
          "name": "stdout",
          "text": [
            "42/42 [==============================] - 1s 10ms/step\n"
          ]
        }
      ]
    },
    {
      "cell_type": "code",
      "source": [
        "plt.plot(np.arange(0,1384),inputs, color='red', label = 'Test(Real) Google stock price')\n",
        "plt.plot(np.arange(60,1384),predicted_stock_price, color='blue', label = 'Predicted Google stock price')\n",
        "plt.title('Google Stock Price Prediction')\n",
        "plt.xlabel('Time')\n",
        "plt.ylabel('Google Stock Price')\n",
        "plt.legend()\n",
        "plt.show()"
      ],
      "metadata": {
        "colab": {
          "base_uri": "https://localhost:8080/",
          "height": 472
        },
        "id": "Xd1msGEosn-7",
        "outputId": "94dde25f-dbbd-4bf7-d531-6d878793b979"
      },
      "execution_count": 29,
      "outputs": [
        {
          "output_type": "display_data",
          "data": {
            "text/plain": [
              "<Figure size 640x480 with 1 Axes>"
            ],
            "image/png": "[encoded data removed]"
          },
          "metadata": {}
        }
      ]
    },
    {
      "cell_type": "code",
      "source": [
        "from sklearn.metrics import mean_squared_error as mse\n",
        "mse(y_test,predicted_stock_price)"
      ],
      "metadata": {
        "colab": {
          "base_uri": "https://localhost:8080/"
        },
        "id": "FfcgZlVOuKLk",
        "outputId": "6ddec419-0528-4c94-aade-d4cf36e40f82"
      },
      "execution_count": 30,
      "outputs": [
        {
          "output_type": "execute_result",
          "data": {
            "text/plain": [
              "537829.4403517968"
            ]
          },
          "metadata": {},
          "execution_count": 30
        }
      ]
    }
  ]
}